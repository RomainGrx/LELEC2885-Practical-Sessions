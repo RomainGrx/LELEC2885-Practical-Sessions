{
  "cells": [
    {
      "cell_type": "markdown",
      "metadata": {},
      "source": [
        "# TP5: Image segmentation"
      ]
    },
    {
      "cell_type": "markdown",
      "metadata": {},
      "source": [
        "In this practical sessions, we will try out basic techniques for *segmenting* images (finding parts of the images that have similar content). We will be exploring two families of method, *clustering methods* that seek a fixed number of sets (clusters) of similar pixels in the image, and *watershed methods*."
      ]
    },
    {
      "cell_type": "markdown",
      "metadata": {},
      "source": [
        "## Part A : Clustering methods (feature-based segmentation)\n",
        "\n",
        "In the following, we will segment the image by defining clusters of pixels that share similar features: this is thus called feature-based segmentation. Of course, clustering is not a problem that is limited to image processing, and the methods that we will cover in this section are fairly general. To reflect this, we will work from now on with a *set* $X$ of $N$ vectors $x_i$ living in dimension $d$ (in image segmentation, each $x_i$ represents one pixel, living in dimension $d = 3$ for RGB images),\n",
        "\n",
        "$$ X = \\{x_i \\in \\mathbb R^d \\: | \\: i = 1,...,N\\}.$$\n",
        "\n",
        "\n",
        "In order to find clusters in $X$, we need to decide how we will mathematically characterize those clusters. As we will see, different parameterizations of the clusters will lead to different clustering algorithms.  "
      ]
    },
    {
      "cell_type": "markdown",
      "metadata": {},
      "source": [
        "## 1] K-Means clustering (Lloyd-Max)\n",
        "In K-means clustering, the clusters are defined by their centers $c_k$, called centroids. The problem of K-means clustering can be formulated as follows:\n",
        "\n",
        "$$c_1^*,...c_K^* = \\arg \\min_{c_1,...c_K} \\sum_{i = 1}^N \\min_{1 \\leq k \\leq K} \\|x_i - c_k\\|_2^2.$$\n",
        "\n",
        "This problem is not trivial to solve (in fact, it is NP-hard), but one heuristic to approximate a solution is the k-means *algorithm* (a somewhat confusing name).\n",
        "\n",
        "Since this algorithm is fairly easy to implement, we will write it ourselves as a warm-up for this session (although you should know numerous implemetations are available online, e.g. from the `sklearn` library for machine learnign). First, let us define some data to test our method on."
      ]
    },
    {
      "cell_type": "code",
      "execution_count": null,
      "metadata": {},
      "outputs": [],
      "source": [
        "import numpy as np\n",
        "import matplotlib.pyplot as plt"
      ]
    },
    {
      "cell_type": "code",
      "execution_count": null,
      "metadata": {},
      "outputs": [
        {
          "name": "stdout",
          "output_type": "stream",
          "text": [
            "Generated dataset in dimension 2:\n"
          ]
        },
        {
          "data": {
            "image/png": "[encoded data removed]",
            "text/plain": [
              "<Figure size 432x288 with 1 Axes>"
            ]
          },
          "metadata": {
            "needs_background": "light"
          },
          "output_type": "display_data"
        }
      ],
      "source": [
        "## GIVEN: generate a simple 2-d dataset to test our method\n",
        "N = 100\n",
        "dim = 2\n",
        "X = 0.45*np.random.randn(N,dim) + 2.75*np.random.randint(2,size=(N,dim))-1\n",
        "print('Generated dataset in dimension 2:')\n",
        "# Visualize the dataset\n",
        "plt.scatter(X[:,0],X[:,1])\n",
        "plt.xlabel('$x_1$')\n",
        "plt.ylabel('$x_2$')\n",
        "plt.xlim(-3, 3)\n",
        "plt.ylim(-3, 3)\n",
        "plt.gca().set_aspect('equal', adjustable='box')\n",
        "plt.show()\n",
        "\n",
        "\n",
        "## GIVEN: a number of centroids to test the method (we assumed this is known)\n",
        "K = 4"
      ]
    },
    {
      "cell_type": "code",
      "execution_count": null,
      "metadata": {},
      "outputs": [],
      "source": [
        "## TO RUN\n",
        "# GIVEN: a visualization tool for our centroids\n",
        "from TP5_utils import plotTheCentroids\n",
        "\n",
        "# Defined as\n",
        "#\n",
        "# def plotTheCentroids(X,assignments,centroids,iteration = None,plotCentroids=True):\n",
        "#    \"\"\"Plots a data in 2-D with the associated centroids.\n",
        "#    \n",
        "#    Argument:\n",
        "#    - X: numpy array, the dataset\n",
        "#    - assignments: numpy array of ints, the assignments to clusters of the elements of X\n",
        "#    - centroids: numpy array, the centroids\n",
        "#    - iteration: int, the kmeans iteration at which the plot function is called\n",
        "#    \"\"\""
      ]
    },
    {
      "cell_type": "markdown",
      "metadata": {},
      "source": [
        "The K-means algorithm alternates between two steps: \n",
        "\n",
        "* **Step 1** given some centroids, find the best assignment of the data samples \n",
        "* **Step 2** given some assignment of the data samples, find the best centroids. \n",
        "\n",
        "Let's take it slow and write each step separately."
      ]
    },
    {
      "cell_type": "markdown",
      "metadata": {},
      "source": [
        "## 1.a] Step 1\n",
        "Write code that assigns the examples in $X$ to some cluster index given the centroids. More precisely, you need to fill the `assignments` array such that the $i$-th entry of this array $a$ satisfies\n",
        "\n",
        "$$ a_i = \\arg\\min_{k} \\| x_i - c_k \\|_2^2.$$"
      ]
    },
    {
      "cell_type": "code",
      "execution_count": null,
      "metadata": {},
      "outputs": [],
      "source": [
        "## TO COMPLETE: find assignments for fixed centroids\n",
        "centroids = np.random.randn(K,dim) # Random centroids, supposed given\n",
        "\n",
        "assignments = np.zeros(N) # TO COMPLETE :-)\n",
        "\n",
        "\n",
        "# Plot the centroids of the clusters (given)\n",
        "plotTheCentroids(X,assignments,centroids)"
      ]
    },
    {
      "cell_type": "markdown",
      "metadata": {},
      "source": [
        "**Question:** Are you able to identify the zones where the assignments jump from one centroid to another? What do these zones look like?\n",
        "\n",
        "\n",
        "\n"
      ]
    },
    {
      "cell_type": "code",
      "execution_count": null,
      "metadata": {},
      "outputs": [],
      "source": [
        "# Your discussion here"
      ]
    },
    {
      "cell_type": "markdown",
      "metadata": {},
      "source": [
        "## 1.b] Step 2\n",
        "Now, we assume that the assignments are fixed: write code to assign the best centroids given the assignments:\n",
        "\n",
        "$$ c_k = \\arg\\min_{c} \\sum_{i \\text{ s.t. } a_i = k } \\| x_i - c \\|_2^2.$$\n",
        "\n",
        "\n",
        "Notice we kindly predefined good assignments for you!\n",
        "\n",
        "*Hint* : Maybe do you know in advance what is the trivial solution to this problem?"
      ]
    },
    {
      "cell_type": "code",
      "execution_count": null,
      "metadata": {},
      "outputs": [],
      "source": [
        "## TO COMPLETE: find centroids for fixed assignment\n",
        "\n",
        "Xtest = np.zeros((N,2))\n",
        "assignments = np.zeros(N)\n",
        "\n",
        "width = N//K\n",
        "for i in np.arange(K):\n",
        "    start = i*width\n",
        "    stop = (i+1)*width\n",
        "    Xtest[start:stop,:] = [(-1)**(i//2), (-1)**(i%2)] + 0.4*np.random.randn(width,dim)\n",
        "    assignments[start:stop] = i\n",
        "\n",
        "centroids = np.zeros([K,dim]) # TO COMPLETE :-)\n",
        "\n",
        "\n",
        "# Plot the centroids of the clusters (given)\n",
        "plotTheCentroids(Xtest,assignments,centroids)"
      ]
    },
    {
      "cell_type": "markdown",
      "metadata": {},
      "source": [
        "## 1.c] Synthesis\n",
        "\n",
        "Now, put those steps together to form the k-means algorithm."
      ]
    },
    {
      "cell_type": "code",
      "execution_count": null,
      "metadata": {},
      "outputs": [],
      "source": [
        "## TO IMPLEMENT : K-means algorithm\n",
        "\n",
        "def kmeans(X,K,initype = 'random', maxIter = 100,plotIterations = True):\n",
        "    \"\"\"Some example here for good practice\"\"\"\n",
        "    (N,dim) = X.shape\n",
        "    # Initialization\n",
        "    \n",
        "    \"\"\" Switch intialization. Don't forget to reset N,X and K by running the upper cell \"\"\"\n",
        "    if (initype=='random'):\n",
        "        centroids = np.random.randn(K,dim) # Random init\n",
        "    elif (initype=='kmeans_pp'):\n",
        "        centroids = kmeans_pp_init(X,K) \n",
        "    assignments = np.zeros(N)\n",
        "    iterate = 0\n",
        "    \n",
        "    # TO COMPLETE\n",
        "            \n",
        "    print('K-means terminated after {} iterations'.format(iterate))\n",
        "            \n",
        "    return centroids,assignments"
      ]
    },
    {
      "cell_type": "code",
      "execution_count": null,
      "metadata": {},
      "outputs": [],
      "source": [
        "# TO RUN\n",
        "(c,assignments) = kmeans(X,K)"
      ]
    },
    {
      "cell_type": "markdown",
      "metadata": {},
      "source": [
        "## 2] Application\n",
        "\n",
        "Let's try our clustering algorithm to segment an RGB image! Run the cells below..."
      ]
    },
    {
      "cell_type": "code",
      "execution_count": null,
      "metadata": {},
      "outputs": [],
      "source": [
        "# TO RUN\n",
        "import imageio\n",
        "# Load the image\n",
        "imfile = imageio.imread('images/peppers.png')\n",
        "image = np.array(imfile)/255 # Normalize between 0 and 1\n",
        "\n",
        "# Reshape the image as a list of pixels\n",
        "X = image.reshape((image.shape[0]*image.shape[1],3))\n",
        "\n",
        "# Plot the image\n",
        "print('Test image that we will segment:')\n",
        "plt.figure(figsize=(10,10))\n",
        "plt.imshow(image)\n",
        "plt.show()"
      ]
    },
    {
      "cell_type": "code",
      "execution_count": null,
      "metadata": {
        "scrolled": false
      },
      "outputs": [],
      "source": [
        "# TO RUN\n",
        "\n",
        "# UNCOMMENT THIS LINE FOR INTERACTIVE PLOT\n",
        "# %matplotlib notebook \n",
        "\n",
        "# Visualize the pixels in the RBG space\n",
        "subsampling = 8 # don't plot ALL the pixels so we can see the shape better (if =1 plot all)\n",
        "\n",
        "print('Cloud point of the pixels in the RGB place (1/{} of the pixels shown):'.format(subsampling))\n",
        "\n",
        "from mpl_toolkits.mplot3d import Axes3D # Needed for 3D plots\n",
        "\n",
        "fig = plt.figure(figsize=(10,10))\n",
        "ax = fig.add_subplot(111, projection='3d')\n",
        "Xs = X[::subsampling]\n",
        "ax.scatter(Xs[:,0],Xs[:,1],Xs[:,2], marker='o',s=0.2, c = Xs)\n",
        "ax.set_xlabel('R')\n",
        "ax.set_ylabel('G')\n",
        "ax.set_zlabel('B')\n",
        "plt.show()"
      ]
    },
    {
      "cell_type": "markdown",
      "metadata": {},
      "source": [
        "## 2.a] Features in the RGB space\n",
        "\n",
        "Now, run the K-means clustering! Try out different values for $K$ and observe the result of the segmentation."
      ]
    },
    {
      "cell_type": "code",
      "execution_count": null,
      "metadata": {},
      "outputs": [],
      "source": [
        "# TO RUN\n",
        "# with different values of K\n",
        "K = 5\n",
        "maxIter = 3 # Careful, increasing this might make the algorithm slow\n",
        "(centroids,assignments) = kmeans(X,K,initype='random',maxIter = maxIter,plotIterations = False)"
      ]
    },
    {
      "cell_type": "code",
      "execution_count": null,
      "metadata": {},
      "outputs": [],
      "source": [
        "# TO RUN\n",
        "\n",
        "# Visualize the centroids in the RGB space\n",
        "fig = plt.figure(figsize=(10,10))\n",
        "\n",
        "ax = fig.add_subplot(111, projection='3d')\n",
        "Xs = X[::subsampling]\n",
        "ax.scatter(Xs[:,0],Xs[:,1],Xs[:,2], marker='o',s=0.5, alpha = 0.05)\n",
        "ax.scatter(centroids[:,0],centroids[:,1],centroids[:,2], marker='*',s=350, alpha=1,c = centroids)\n",
        "plt.legend(['data','centroids'])\n",
        "ax.set_xlabel('R')\n",
        "ax.set_ylabel('G')\n",
        "ax.set_zlabel('B')\n",
        "\n",
        "plt.show()"
      ]
    },
    {
      "cell_type": "code",
      "execution_count": null,
      "metadata": {},
      "outputs": [],
      "source": [
        "%matplotlib inline"
      ]
    },
    {
      "cell_type": "code",
      "execution_count": null,
      "metadata": {
        "scrolled": false
      },
      "outputs": [],
      "source": [
        "# TO RUN\n",
        "\n",
        "# Visualize the clusters in the image domain\n",
        "from TP5_utils import visualizeSegmentation\n",
        "visualizeSegmentation(image,centroids,assignments)"
      ]
    },
    {
      "cell_type": "markdown",
      "metadata": {
        "collapsed": true
      },
      "source": [
        "## 2.b] Adding more features for the segmentation\n",
        "\n",
        "We have clustered the images pixels according to the RGB features of each pixel. According to what is desired, other features can also be used. For example, if we want to have more localized clusters (you might have noticed that the previous clusters tend to be scattered on the whole image), the positions of the pixels can be used as additional features. Together with the RGB information, we thus have $d=5$ dimensional features.\n",
        "\n",
        "Run k-means on the pixels of the images, for which we also add the position as feature. That is, each pixel $i$ is characterized by the features\n",
        "\n",
        "$$ x_i^T = [r_i,g_i,b_i,p_i,q_i], $$\n",
        "\n",
        "where $r_i,g_i,b_i$ is the RGB information of that pixel, and $p_i,q_i$ are itq spatial coordinates in the image (where we suppose the spatial domain of the image is $[0,1]^2$, i.e. **all the features are normalized** such that $0\\leq r_i,g_i,b_i, p_i, q_i \\leq 1$). We denote $X_p$ this new dataset that includes the position."
      ]
    },
    {
      "cell_type": "code",
      "execution_count": null,
      "metadata": {},
      "outputs": [],
      "source": [
        "# TO COMPLETE\n",
        "\n",
        "X_p = np.zeros((image.shape[0]*image.shape[1],5)) # 5-dimensional features\n",
        "\n",
        "# ... (fill in Xp)\n",
        "\n",
        "print('First few elements of X_p:')\n",
        "print(X_p[:5])\n",
        "print('Last few elements of X_p:')\n",
        "print(X_p[-5:])"
      ]
    },
    {
      "cell_type": "markdown",
      "metadata": {},
      "source": [
        "Run the code below to run k-means on this \"augmented\" dataset. Just so you can test the influence of adding the position, we added a parameter \"importanceOfPosition\" that you can change to see what happpens (1 means position is \"as important as color\", close to 0 means position doesn't matter, much larger than 1 means color doesn't matter)."
      ]
    },
    {
      "cell_type": "code",
      "execution_count": null,
      "metadata": {},
      "outputs": [],
      "source": [
        "# TO RUN\n",
        "importanceOfPosition = 1 # Play with this\n",
        "K = 5 # And also with this\n",
        "X_p_w = X_p.copy()\n",
        "X_p_w[:,-2:] *= importanceOfPosition\n",
        "\n",
        "(centroids2,assignments2) = kmeans(X_p_w,K,initype='random',maxIter = 10,plotIterations = False)"
      ]
    },
    {
      "cell_type": "code",
      "execution_count": null,
      "metadata": {
        "scrolled": false
      },
      "outputs": [],
      "source": [
        "# TO RUN\n",
        "from TP5_utils import compareSegmentations\n",
        "compareSegmentations(image,centroids,assignments, centroids2, assignments2)"
      ]
    },
    {
      "cell_type": "markdown",
      "metadata": {},
      "source": [
        "**Question:** Which qualitatives differences do you observe between the two segmentations? What is your intuition about it?"
      ]
    },
    {
      "cell_type": "code",
      "execution_count": null,
      "metadata": {},
      "outputs": [],
      "source": [
        "# Your discussion here"
      ]
    },
    {
      "cell_type": "markdown",
      "metadata": {},
      "source": [
        "## 3] Kmeans++ initialization\n",
        "\n",
        "As you have probably seen during the class and also noticed here above, the random initialization used previously is far from optimal.\n",
        "It can be easily understood observing that some centroids that are unluckily initialized in an empty zone in the feature space get \"abandoned\" by the kmean algorithm. \n",
        "\n",
        "The k-means++ initialization tries to avoid these drawbacks. The algorithm is reminded here :\n",
        "\n",
        "<img src=\"images/kmeans++.png\" alt=\"kmeans++ algorithm\" width=\"500\"/>"
      ]
    },
    {
      "cell_type": "markdown",
      "metadata": {},
      "source": [
        "### Important \n",
        "\n",
        "Once having written the algorithm, you can come back to the toy example in **1)** and modify the *initype* input of the kmeans function. This should help you visually confirm that kmeans++ is working well!"
      ]
    },
    {
      "cell_type": "code",
      "execution_count": null,
      "metadata": {},
      "outputs": [],
      "source": [
        "# TO COMPLETE : write the code implementing the kmeans++ initialization algorithm\n",
        "\n",
        "def kmeans_pp_init(X,K):\n",
        "    (N,dim) = X.shape\n",
        "    # Initialization\n",
        "    centroids = np.zeros((K,dim)) # TO BE MODIFIED\n",
        "    \n",
        "    # TO COMPLETE\n",
        "            \n",
        "    return centroids"
      ]
    },
    {
      "cell_type": "markdown",
      "metadata": {},
      "source": [
        "## 4] Spectral clustering\n",
        "Now, K-means clustering is nice because it is fairly simple, but it is not suited to complicated (e.g., nonconvex) cluster shapes. We will now implement the spectral clustering algorithm that is able to tackle this problem (though we won't use it on our test image, as it is a little bit tricky to implement a fast implementation of it without entering into the subtleties of working with sparse matrix representations, which is a lot to cover in 2 hours)."
      ]
    },
    {
      "cell_type": "code",
      "execution_count": null,
      "metadata": {},
      "outputs": [],
      "source": [
        "# TO RUN\n",
        "\n",
        "# Let's build a simple dataset where K-means doesn't get the job done\n",
        "N = 1000\n",
        "dim = 2\n",
        "Nring = 3\n",
        "thetas = np.random.uniform(0,2*np.pi,N)\n",
        "# Toy example dataset to test vanilla k-means VS spectral clustering\n",
        "\n",
        "X = ((np.array([np.cos(thetas),np.sin(thetas)]))*(np.random.randint(Nring,size=N)+0.1*np.random.randn(N))).T\n",
        "\n",
        "plt.figure(figsize=(10,10))\n",
        "plt.scatter(X[:,0],X[:,1])\n",
        "plt.xlabel('x_1')\n",
        "plt.ylabel('x_2')\n",
        "plt.show()"
      ]
    },
    {
      "cell_type": "markdown",
      "metadata": {},
      "source": [
        "## 4.a] Kmeans : the fall of the data space empire"
      ]
    },
    {
      "cell_type": "code",
      "execution_count": null,
      "metadata": {},
      "outputs": [],
      "source": [
        "# TO COMPLETE: run kmeans (with K adequatly chosen) on the dataset above and plot it (e.g. using )\n",
        "# What do you observe?\n",
        "\n",
        "K = 0 # Choose an appropriate value for K\n",
        ""
      ]
    },
    {
      "cell_type": "markdown",
      "metadata": {},
      "source": [
        "## 4.b] Rescued by graphs theory and spectral clustering\n",
        "\n",
        "The idea of spectral clustering is to build a graph (represented as an adjacency matrix $W \\in \\mathbb R^{N \\times N}$) where the nodes are the pixels and the weigthed edges represent the \"similarities\" between them. For now, we do the simple choice of computing the similarities as (you might have seen this formula before :-P)\n",
        "\n",
        "$$W_{i,j} = \\exp(- \\frac{ \\|x_i - x_j\\|_2^2}{2 \\sigma^2})$$.\n",
        "\n",
        "The next step is to build the graph Laplacian $L$ defined as :\n",
        "\n",
        "$$ L = D - W $$\n",
        "\n",
        "where $D$ is the degree matrix, a diagonal matrix with $D_{i,i} = \\sum_j W_{i,j}$.\n",
        "\n",
        "Then, we cluster the data in the eigendecomposition of this laplacian matrix $L$ (hence the name \"spectral\"). This is motivated by the fact that points that are on the same connected component of the graph will have the same eigenvalue (see the course for mor information)."
      ]
    },
    {
      "cell_type": "code",
      "execution_count": null,
      "metadata": {},
      "outputs": [],
      "source": [
        "## TO COMPLETE : compute the adjacency matrix W (weights) associated with the dataset X the pixels + graph Laplacian\n",
        "\n",
        "sigma = 0.1 # Given... for now :-)\n",
        "W = np.zeros((N,N)) # TO COMPLETE\n",
        "\n",
        "\n",
        "print('Showing some entries of W')\n",
        "plt.matshow(W[:25,:25])\n",
        "plt.colorbar()\n",
        "plt.show()"
      ]
    },
    {
      "cell_type": "code",
      "execution_count": null,
      "metadata": {},
      "outputs": [],
      "source": [
        "## TO COMPLETE : compute the graph Laplacian\n",
        "\n",
        "L = np.zeros((N,N)) # TO COMPLETE\n",
        "\n",
        "\n",
        "print('Showing some entries of L')\n",
        "plt.matshow(L[:25,:25])\n",
        "plt.colorbar()\n",
        "plt.show()"
      ]
    },
    {
      "cell_type": "markdown",
      "metadata": {},
      "source": [
        "If the graph Laplacian is correctly computed, the following code should map the dataset $X$ to another dataset $U$ in the frequency domain of the graph. $U$ contains the first $K$ eigenvectors of the graph Laplacian. Run the code below to observe this \"transformed dataset\"."
      ]
    },
    {
      "cell_type": "code",
      "execution_count": null,
      "metadata": {},
      "outputs": [],
      "source": [
        "# TO RUN\n",
        "import math\n",
        "def orderOfMagnitude(number):\n",
        "    return math.floor(math.log(number, 10))\n",
        "\n",
        "# SVD decomposition of L\n",
        "(U,s,_) = np.linalg.svd(L, full_matrices=True)\n",
        "\n",
        "eigenvalues = s**2\n",
        "print('Showing the 10 lowest eigenvalues\\' orders of magnitude :')\n",
        "for i in np.arange(10) :\n",
        "    print(orderOfMagnitude(eigenvalues[-i-1]))\n",
        "\n",
        "# Keep only K first eigenvectors\n",
        "# Careful: SVD returns the singular values in DESCENDING order; we thus want to extract the LAST two columns\n",
        "U = U[:,-K:]\n",
        "\n",
        "# Plot the \"transformed dataset\"\n",
        "plt.figure(figsize=(7,7))\n",
        "plt.scatter(U[:,0],U[:,1],s=5)\n",
        "plt.xlabel('$u_1$')\n",
        "plt.ylabel('$u_2$')\n",
        "plt.show()"
      ]
    },
    {
      "cell_type": "markdown",
      "metadata": {},
      "source": [
        "**Question:** Can you make a link between the obtained eigenvalues' orders of magnitude and the number of clusters appearing in the upper figure? Does this validate your previous choice of K?"
      ]
    },
    {
      "cell_type": "code",
      "execution_count": null,
      "metadata": {},
      "outputs": [],
      "source": [
        "# Your discussion here"
      ]
    },
    {
      "cell_type": "markdown",
      "metadata": {},
      "source": [
        "Time to perform the spectral clustering! SImply call k-means on $U$ below to obtain the assignments given by spectral k-means."
      ]
    },
    {
      "cell_type": "code",
      "execution_count": null,
      "metadata": {},
      "outputs": [],
      "source": [
        "# TO RUN: k-means in spectral domain\n",
        "(centroids_u,assignments) = kmeans(U,K,initype='random',plotIterations=False)\n",
        "\n",
        "# Plot in the spectral domain\n",
        "print('Plot clusters the spectral domain')\n",
        "plotTheCentroids(U,assignments,centroids_u,iteration = None,plotCentroids=True)\n",
        "plt.xlabel('$u_1$')\n",
        "plt.ylabel('$u_2$')\n",
        "# and in the initial domain\n",
        "print('Plot clusters the initial domain')\n",
        "plotTheCentroids(X,assignments,centroids_u,iteration = None,plotCentroids=False)\n",
        "plt.xlabel('$x_1$')\n",
        "plt.ylabel('$x_2$')"
      ]
    },
    {
      "cell_type": "markdown",
      "metadata": {},
      "source": [
        "**Question:** Is it working as expected? \n",
        "If yes, check it a couple times before confirming :) \n",
        "If not, do you have any clue about what could go wrong? "
      ]
    },
    {
      "cell_type": "code",
      "execution_count": null,
      "metadata": {},
      "outputs": [],
      "source": [
        "# Your discussion here"
      ]
    },
    {
      "cell_type": "markdown",
      "metadata": {},
      "source": [
        "**Question:** Did we really build a K-groups graph like the following here?\n",
        "\n",
        "<img src=\"images/K_groups_graph.png\" alt=\"K groups graph\" width=\"400\"/>"
      ]
    },
    {
      "cell_type": "code",
      "execution_count": null,
      "metadata": {},
      "outputs": [],
      "source": [
        "# Your discussion here"
      ]
    },
    {
      "cell_type": "markdown",
      "metadata": {},
      "source": [
        "### Bonus exercise : Another way to build the graph\n",
        "* (easy): try out other definitions for the weigths W that yield a sparse matrix L.\n",
        "  For example, $W_{i,j} = \\begin{cases} W_{i,j}, & \\mbox{if } |x_i-x_j| < threshold \\\\ 0, & \\mbox{otherwise } \\end{cases} $ \n",
        "  \n",
        "* (Advanced) : implement the computation of the matrix U such from a sparse representation of L\n",
        "  (e.g., using https://docs.scipy.org/doc/scipy/reference/sparse.html and     https://docs.scipy.org/doc/scipy/reference/generated/scipy.sparse.linalg.eigsh.html#scipy.sparse.linalg.eigsh)\n",
        "  such that you can use it to segment large-scale images"
      ]
    },
    {
      "cell_type": "markdown",
      "metadata": {},
      "source": [
        "## Part B : Bonus: Watershed methods\n",
        "Try to implement watershed segmentation on our pepper test image. For this more advanced algorithm, use an available implementation, e.g. one of those\n",
        "* https://scikit-image.org/docs/dev/auto_examples/segmentation/plot_watershed.html\n",
        "* https://opencv-python-tutroals.readthedocs.io/en/latest/py_tutorials/py_imgproc/py_watershed/py_watershed.html"
      ]
    },
    {
      "cell_type": "code",
      "execution_count": null,
      "metadata": {},
      "outputs": [],
      "source": [
        ""
      ]
    }
  ],
  "metadata": {
    "kernelspec": {
      "display_name": "Python 3",
      "language": "python",
      "name": "python3"
    },
    "language_info": {
      "codemirror_mode": {
        "name": "ipython",
        "version": 3
      },
      "file_extension": ".py",
      "mimetype": "text/x-python",
      "name": "python",
      "nbconvert_exporter": "python",
      "pygments_lexer": "ipython3",
      "version": "3.8.3"
    }
  },
  "nbformat": 4,
  "nbformat_minor": 2
}