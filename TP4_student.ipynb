{
  "cells": [
    {
      "cell_type": "markdown",
      "metadata": {},
      "source": [
        "# TP4: Morphological image processing"
      ]
    },
    {
      "cell_type": "markdown",
      "metadata": {},
      "source": [
        "Morphological image processing is a collection of operations based on the shape of images. \n",
        "Classical morphological operators are designed for binary images processing but the operators can be extended to be applied on greyscale or colored images. In this session, we will only work with binary images, images only made of 0s and 1s.\n",
        "\n",
        "The following notebook should be sufficient but you can find additional details in the following pages:\n",
        "- https://en.wikipedia.org/wiki/Mathematical_morphology\n",
        "- https://www.cs.auckland.ac.nz/courses/compsci773s1c/lectures/ImageProcessing-html/topic4.htm\n",
        "- https://homepages.inf.ed.ac.uk/rbf/HIPR2/morops.htm\n",
        "- https://opencv-python-tutroals.readthedocs.io/en/latest/py_tutorials/py_imgproc/py_morphological_ops/py_morphological_ops.html\n"
      ]
    },
    {
      "cell_type": "code",
      "execution_count": null,
      "metadata": {},
      "outputs": [],
      "source": [
        "# The following packages will be useful throughout the session\n",
        "!pip install -U pip numpy imageio scikit-image ipywidgets\n",
        "!pip install matplotlib\n",
        "\n",
        "import numpy as np\n",
        "from scipy import ndimage\n",
        "from matplotlib import pyplot as plt\n",
        "from ipywidgets import widgets, interact\n",
        "import imageio\n",
        "\n",
        "from TP4_utils import display_pixels, assert_binary_uint8, resize_and_fix_origin"
      ]
    },
    {
      "cell_type": "markdown",
      "metadata": {},
      "source": [
        "## Morphological operators\n",
        "\n",
        "The morphological operators take two inputs:\n",
        "- an image (of shape $(W, H)$)\n",
        "- and a structuring element known as _kernel_ (of shape $(w, h)$ with $w \\ll W$ and $h \\ll H$)\n",
        "\n",
        "And output a transformed image (of shape $(W, H)$). They work (at least conceptually) by translating the kernel throughout the input image like a in a 2D convolution.\n",
        "\n",
        "While the origin of the image is, by convention, in the top-left corner of the image, the origin of the kernel is often in the center, leading to negative coordinates elements. For the borders where the kernel can exit the bounds of the image, only the pixels within the image are considered.\n",
        "\n",
        "## Basic operators\n",
        "\n",
        "They are 2 basic operators\n",
        "- **DILATION** tests whether the kernel \"hits\" or \"intersect\" with the neighbourhood of a pixel\n",
        "- **EROSION** tests whether the kernel \"fits\" within the neighbourhood.\n",
        "\n",
        "### Example\n",
        "The library `scipy` comes with the two basic operators. You can play around below to see the effect of each operator with different kernel."
      ]
    },
    {
      "cell_type": "code",
      "execution_count": null,
      "metadata": {
        "scrolled": false
      },
      "outputs": [],
      "source": [
        "kernels = {\n",
        "    \"ball\": \"np.array([[0,1,0],[1,1,1],[0,1,0]])\",\n",
        "    \"vertical_bar\": \"np.array([[0,1,0],[0,1,0],[0,1,0]])\",\n",
        "    \"horizontal_bar\": \"np.array([[0,0,0],[1,1,1],[0,0,0]])\",\n",
        "    \"dart\": \"np.array([[0,1,0],[0,1,1],[0,0,0]])\"\n",
        "}\n",
        "operators = {\n",
        "    \"erosion\": ndimage.binary_erosion,\n",
        "    \"dilation\": ndimage.binary_dilation\n",
        "}\n",
        "@interact(operator=operators, kernel=kernels)\n",
        "def _(operator, kernel):\n",
        "    # Display kernel\n",
        "    kernel = eval(kernel)\n",
        "    display_pixels(plt.figure(figsize=(1,1)).gca(), kernel, \"kernel used\")\n",
        "    \n",
        "    # Loads a 8bits image and thresholds at 128\n",
        "    # elements above 128 return True (or 1) and elements below 128 return False (or 0)\n",
        "    image = imageio.imread(\"images/circuit.png\") > 128   \n",
        "\n",
        "    # Create a 2 subplots figure\n",
        "    fig, axes = plt.subplots(1, 2, figsize=(20,20))\n",
        "    display_pixels(axes[0], image, title=\"original image\")\n",
        "    display_pixels(axes[1], operator(image, structure=kernel), title=\"modified image\");"
      ]
    },
    {
      "cell_type": "markdown",
      "metadata": {},
      "source": [
        "## Implementation"
      ]
    },
    {
      "cell_type": "markdown",
      "metadata": {},
      "source": [
        "From a mathematical point of view, the **DILATION** operator is nothing else but a [Minkowski sum](https://en.wikipedia.org/wiki/Minkowski_addition) of the ensemble $E \\in \\mathbb{Z}^2$ and the kernel $K \\in \\mathbb{Z}^2$.\n",
        "\n",
        "$$E \\oplus K := \\left\\{ e+k | e \\in E, k \\in K \\right\\}$$\n",
        "\n",
        "The most straightforward algorithm for computing the Minkowski sum $E \\oplus K$ is to compute the sum $e+k$ for each pair $(e,k)$, where $e \\in E$ and $k \\in K$. However, this implementation requires to perform $|E|\\times|K|$ operations, which is far from efficient!\n",
        "\n",
        "Instead, there's a clever way by using the convolution operator that has a fast implementation in the Fourier domain (see first pratical session). For binary images:\n",
        "\n",
        "$$E \\oplus K = \\mathcal{h}_\\tau(E \\ast K)$$\n",
        "\n",
        "with $\\mathcal{h}_\\tau(x) = \\begin{cases} 0, & \\mbox{if } x < \\tau \\\\ 1, & \\mbox{otherwise } \\end{cases} \\hspace{1cm}$  with $0 < \\tau < 1$ (generally, $\\tau=0.5$).\n",
        "\n",
        "The **EROSION** operator can be defined using the **DILATION** operator and working on $E^c:=\\left\\{e|e\\notin E\\right\\}$, the complementary ensemble of $E$ and $\\check{K}:=\\left\\{-k|k\\in K\\right\\}$, the opposite of $K$:\n",
        "\n",
        "$$E \\ominus K = \\left(E^c\\oplus \\check{K}\\right)^c$$"
      ]
    },
    {
      "cell_type": "markdown",
      "metadata": {},
      "source": [
        "### Exercice:\n",
        "Implement effitiently (with `np.fft`) the `dilate` and `erode` functions using only numpy operations. You can assume the image is binary {0,1}.\n",
        "\n",
        "**Hint:** You can use your implementation from the first practical session."
      ]
    },
    {
      "cell_type": "code",
      "execution_count": null,
      "metadata": {},
      "outputs": [],
      "source": [
        "import numpy as np\n",
        "\n",
        "def dilate(image, kernel):\n",
        "    assert_binary_uint8(image) # sanity check image is binary\n",
        "\n",
        "    # write your implementation here. Only numpy is allowed\n",
        "    dilation = ...\n",
        "\n",
        "    assert_binary_uint8(dilation) # sanity check dilation is binary\n",
        "    return dilation\n",
        "\n",
        "def erode(image, kernel):\n",
        "    assert_binary_uint8(image) # sanity check image is binary\n",
        "    \n",
        "    # write your implementation here. Only numpy is allowed\n",
        "    erosion = ...\n",
        "\n",
        "    assert_binary_uint8(erosion) # sanity check erosion is binary\n",
        "    return erosion"
      ]
    },
    {
      "cell_type": "code",
      "execution_count": null,
      "metadata": {},
      "outputs": [],
      "source": [
        "operators = {\n",
        "    \"erosion\": erode,\n",
        "    \"dilation\": dilate\n",
        "}\n",
        "@interact(operator=operators, kernel=kernels)\n",
        "def _(operator, kernel):\n",
        "    # Display kernel\n",
        "    kernel = eval(kernel).astype(np.uint8)\n",
        "    display_pixels(plt.figure(figsize=(1,1)).gca(), kernel, \"kernel used\")\n",
        "    \n",
        "    # Loads a 8bits image and thresholds at 128\n",
        "    # elements above 128 return True (or 1) and elements below 128 return False (or 0)\n",
        "    image = 1-(imageio.imread(\"images/boat.png\") > 128).astype(np.uint8)\n",
        "\n",
        "    # Create a 2 subplots figure\n",
        "    fig, axes = plt.subplots(1, 3, figsize=(20,20))\n",
        "    display_pixels(axes[0], image, title=\"original image\")\n",
        "    display_pixels(axes[1], operator(image, kernel=kernel), title=\"your implementation\")\n",
        "\n",
        "    operator = ndimage.morphology.binary_erosion if operator == erode else ndimage.morphology.binary_dilation\n",
        "    display_pixels(axes[2], operator(image, structure=kernel), title=\"scipy implementation\")"
      ]
    },
    {
      "cell_type": "markdown",
      "metadata": {},
      "source": [
        "### Questions:\n",
        "- What is the complexity of the naive implementation?\n",
        "- What is the complexity of the implementation using the fast fourrier transform?\n",
        "- Can you see differences with the `scipy` implementation used above (look on the borders when doing dilation)? Can you explain why we can observe that (hint in `TP1.5_student.ipynb` on moodle if you don't)?"
      ]
    },
    {
      "cell_type": "markdown",
      "metadata": {},
      "source": [
        "## Opening and Closing\n",
        "- **OPENING** is obtained by applying an erosion followed by a dilation. It can _open_ up a gap between objects connected by a thin bridge of pixels. Any regions that have survived the erosion are restored to their original size by the dilation.\n",
        "- **CLOSING** is obtained by applying a dilation followed by an erosion. It can _fill holes_ while keeping object sizes.\n",
        "\n",
        "The **OPENING** operator is the dual of the **CLOSING** operator, i.e. opening the foreground is equivalent to closing the background."
      ]
    },
    {
      "cell_type": "markdown",
      "metadata": {},
      "source": [
        "### Exercice:\n",
        "Try implementing the **OPENING** and **CLOSING** operators using your functions `erode` and `dilate`"
      ]
    },
    {
      "cell_type": "code",
      "execution_count": null,
      "metadata": {},
      "outputs": [],
      "source": [
        "def opening(image, kernel):\n",
        "    # write your implementation here\n",
        "    \n",
        "    \n",
        "    return image\n",
        "\n",
        "def closing(image, kernel):\n",
        "    # write your implementation here    \n",
        "    \n",
        "    \n",
        "    return image"
      ]
    },
    {
      "cell_type": "markdown",
      "metadata": {},
      "source": [
        "### Exercice:\n",
        "\"pepper noise\" (and \"salt noise\") are noises obtained by addition of black (or white) pixels to an image.\n",
        "Try remove the salt and pepper noise from the following image using your functions."
      ]
    },
    {
      "cell_type": "code",
      "execution_count": null,
      "metadata": {
        "scrolled": false
      },
      "outputs": [],
      "source": [
        "image = (imageio.imread(\"images/circuit_salt_and_pepper.png\") > 128).astype(np.uint8)\n",
        "\n",
        "def remove_salt_and_pepper_noise(image):\n",
        "    # write your implementation here\n",
        "    return image\n",
        "\n",
        "fig, axes = plt.subplots(1,2, figsize=(20,20))\n",
        "axes[0].imshow(image)\n",
        "axes[0].set_title(\"Corrupted image\")\n",
        "axes[1].imshow(remove_salt_and_pepper_noise(image))\n",
        "axes[1].set_title(\"Restored image\");"
      ]
    },
    {
      "cell_type": "markdown",
      "metadata": {},
      "source": [
        "## Set theory operations\n",
        "Set theory operations are usefull to build the next morphological operators\n",
        "\n",
        "- **INTERSECTION** is the pixel-wise **AND** operator $I_A \\cap I_B$\n",
        "- **UNION** is the pixel-wise **OR** operator $I_A \\cup I_B$\n",
        "- **INVERT** is the pixel-wise **NOT** operator $\\neg I$\n",
        "\n",
        "### Exercice\n",
        "Implement `intersection`, `union` and `invert`. Hint:\u00a0`numpy` is fairly faster than any pure python implementation. Don't reinvent the wheel... and use (binary operators of) `numpy`. You can assume images are numpy arrays of type `np.uint8` with value 0 or 1, and that `input_image_1` and `input_image_2` have the same shape."
      ]
    },
    {
      "cell_type": "code",
      "execution_count": null,
      "metadata": {},
      "outputs": [],
      "source": [
        "def intersection(input_image_1, input_image_2):\n",
        "    assert_binary_uint8(input_image_1, input_image_2)\n",
        "    # write your implementation here\n",
        "    output_image = ...\n",
        "    assert_binary_uint8(output_image)\n",
        "    return output_image\n",
        "\n",
        "def union(input_image_1, input_image_2):\n",
        "    assert_binary_uint8(input_image_1, input_image_2)\n",
        "    # write your implementation here\n",
        "    output_image = ...\n",
        "    assert_binary_uint8(output_image)\n",
        "    return output_image\n",
        "\n",
        "def invert(input_image):\n",
        "    assert_binary_uint8(input_image)\n",
        "    # write your implementation here\n",
        "    output_image = ...\n",
        "    assert_binary_uint8(output_image)\n",
        "    return output_image"
      ]
    },
    {
      "cell_type": "code",
      "execution_count": null,
      "metadata": {
        "scrolled": false
      },
      "outputs": [],
      "source": [
        "im1 = 1-(imageio.imread(\"images/draw1.png\")[50:200,50:200] > 128).astype(np.uint8)\n",
        "im2 = 1-(imageio.imread(\"images/draw2.png\")[50:200,50:200] > 128).astype(np.uint8)\n",
        "\n",
        "fig, axes = plt.subplots(2,3, figsize=(20,12))\n",
        "axes[0][0].imshow(im1)\n",
        "axes[0][0].set_title(\"im1\")\n",
        "axes[1][0].imshow(im2)\n",
        "axes[1][0].set_title(\"im2\")\n",
        "\n",
        "axes[0][1].imshow(union(im1,im2))\n",
        "axes[0][1].set_title(\"union(im1,im2)\")\n",
        "axes[1][1].imshow(intersection(im1,im2))\n",
        "axes[1][1].set_title(\"intersection(im1,im2)\")\n",
        "\n",
        "axes[0][2].imshow(invert(im1))\n",
        "axes[0][2].set_title(\"invert(im1)\")\n",
        "axes[1][2].imshow(invert(im2))\n",
        "axes[1][2].set_title(\"invert(im2)\")"
      ]
    },
    {
      "cell_type": "markdown",
      "metadata": {},
      "source": [
        "## Hit and Miss \n",
        "The **HIT-AND-MISS** transform is a general binary morphological operation that can be used to look for particular patterns of foreground and background pixels in an image. As with other binary morphological operators it takes as input a binary image and a kernel, and produces another binary image as output.\n",
        "\n",
        "The kernel is a slight extension to the kernel introduced above. It's values can be `1` for foreground, `0` for background and nothing for \"don't care's\". \n",
        "\n",
        "![kernel example](test_imgs/kerncrn1.gif \"Kernel used to find right angle convex corner points in images.\")\n",
        "\n",
        "The **HIT-AND-MISS** operation is performed by translating the origin of the kernel to all points in the image and comparing it with the underlying image pixels. There's a _hit_ when the kernel exactly matches the foreground **and** background pixels of the image, resulting in a `1` in the output image, and a _miss_ else, resulting in a `0` in the output image. At the edges of the image, implementations can vary.\n",
        "\n",
        "In our implementation, we'll use `np.nan` value for \"don't care's\" (which means \"Not A Number\") ; and we won't pay attention to the implementation at the edges."
      ]
    },
    {
      "cell_type": "markdown",
      "metadata": {},
      "source": [
        "### Exercice:\n",
        "Implement the **HIT-AND-MISS** operator. If you think about it for a moment, you'll notice it's actually an intersection of two erosions..."
      ]
    },
    {
      "cell_type": "code",
      "execution_count": null,
      "metadata": {},
      "outputs": [],
      "source": [
        "def hit_and_miss(image, kernel):\n",
        "    assert_binary_uint8(image)\n",
        "    # write your implementation here\n",
        "    output_image = ...\n",
        "    assert_binary_uint8(output_image)\n",
        "    return output_image"
      ]
    },
    {
      "cell_type": "markdown",
      "metadata": {},
      "source": [
        "The **HIT-AND-MISS** operator allows to detect specific patterns in the image, like corners, or edges."
      ]
    },
    {
      "cell_type": "code",
      "execution_count": null,
      "metadata": {},
      "outputs": [],
      "source": [
        "import matplotlib as mpl\n",
        "bg_color = (0.81, 0.8, 0.8)\n",
        "mpl.cm.get_cmap().set_bad(color=bg_color) # set np.nan as background color\n",
        "\n",
        "image = 1-(imageio.imread(\"images/boat.png\") > 128).astype(np.uint8)\n",
        "\n",
        "fig, axes = plt.subplots(3,5, figsize=(20,8), gridspec_kw={'height_ratios': [1,5,5]}, facecolor=bg_color)\n",
        "axes[1,0].imshow(image)\n",
        "axes[1,0].set_title(\"original image\")\n",
        "axes[2,0].imshow(image)\n",
        "axes[2,0].set_title(\"original image\")\n",
        "axes[0,0].axis('off')\n",
        "axes[1,0].set_ylabel(\"your implementation\")\n",
        "axes[2,0].set_ylabel(\"scypi implementation\")\n",
        "\n",
        "kernel = np.array([[   0  ,   0   ,np.nan],\n",
        "                   [   0  ,   1   ,   1  ],\n",
        "                   [np.nan,   1   ,np.nan]])\n",
        "\n",
        "for i, name in enumerate([\"top-left\", \"bottom-left\", \"bottom-right\", \"top-right\"]):\n",
        "    k = np.rot90(kernel, k=i)\n",
        "    display_pixels(axes[0,i+1], k, name)\n",
        "    axes[1,i+1].imshow(hit_and_miss(image, k))\n",
        "    axes[1,i+1].set_title(\"{} corners detection\".format(name))\n",
        "    axes[2,i+1].imshow(ndimage.morphology.binary_hit_or_miss(image, k==1, k==0))"
      ]
    },
    {
      "cell_type": "markdown",
      "metadata": {},
      "source": [
        "### Exercice:\n",
        "Using the **HIT-AND-MISS** operator, implement `find_countours` that returns an image of the countours of an input binary image."
      ]
    },
    {
      "cell_type": "code",
      "execution_count": null,
      "metadata": {},
      "outputs": [],
      "source": [
        "def find_countours(image):\n",
        "    # write your implementation here\n",
        "    output_image = image\n",
        "    \n",
        "\n",
        "    return output_image"
      ]
    },
    {
      "cell_type": "code",
      "execution_count": null,
      "metadata": {},
      "outputs": [],
      "source": [
        "image = (imageio.imread(\"images/circuit_large.png\")[:,:,0] > 128).astype(np.uint8)\n",
        "\n",
        "fig, axes = plt.subplots(1,2, figsize=(20,20))\n",
        "axes[0].imshow(image)\n",
        "axes[0].set_title(\"original image\")\n",
        "\n",
        "axes[1].imshow(find_countours(image))\n",
        "axes[1].set_title(\"countoured image\")"
      ]
    },
    {
      "cell_type": "markdown",
      "metadata": {},
      "source": [
        "Actually the **HIT-AND-MISS** operator is the most basic operation of binary morphology since almost all the other binary morphological operators can be derived from it."
      ]
    },
    {
      "cell_type": "markdown",
      "metadata": {},
      "source": [
        "## Thinning and Thickening\n",
        "\n",
        "**THINNING** is used to remove selected foreground pixels from binary images.\n",
        "\n",
        "In a thinning _pass_, when the kernel matches exactly the underlying pixels of the image, a `0` is written in the output image. Else, the output image takes the value of the input image. Note that a `0` at the origin of the kernel won't produce any effect.\n",
        "\n",
        "The choice of structuring element determines under what situations a foreground pixel will be set to background, and hence it determines the application for the thinning operation. Usually, multiple structuring elements are applied to match several patterns.\n",
        "\n",
        "**THICKENING** is used to grow selected regions of foreground pixels in binary images.\n",
        "\n",
        "In a thickening _pass_, when the kernel matches exactly the underlying pixels of the image, a `1` is written in the output image. Else, the output image takes the value of the input image. Note that a `1` at the origin of the kernel won't produce any effect.\n",
        "\n",
        "The **THICKENING** operator is the dual of the **THINNING** operator, i.e. thickening the foreground is equivalent to thinning the background.\n",
        "\n",
        "Usually, the **THINNING** and **THICKENING** operators are applied on multiple kernels, repeatedly until convergence (there is no further changes to the image).\n"
      ]
    },
    {
      "cell_type": "markdown",
      "metadata": {},
      "source": [
        "### Exercice\n",
        "Implement `thicken` and `thin` using your previous functions. As those operators are usually applied with multiple kernels, we provide a list of kernels in argument of the functions."
      ]
    },
    {
      "cell_type": "code",
      "execution_count": null,
      "metadata": {},
      "outputs": [],
      "source": [
        "def thin(image, kernel_list, max_iter=1000):\n",
        "    assert_binary_uint8(image)\n",
        "    if not isinstance(kernel_list, list):\n",
        "        kernel_list = [kernel]\n",
        "\n",
        "    # write your implementation here\n",
        "    output_image = ...\n",
        "    \n",
        "    assert_binary_uint8(output_image)\n",
        "    return output_image\n",
        "\n",
        "def thicken(image, kernel_list, max_iter=1000):\n",
        "    assert_binary_uint8(image)\n",
        "    if not isinstance(kernel_list, list):\n",
        "        kernel_list = [kernel]\n",
        "\n",
        "    # write your implementation here\n",
        "    output_image = ...\n",
        "\n",
        "    assert_binary_uint8(output_image)\n",
        "    return output_image"
      ]
    },
    {
      "cell_type": "markdown",
      "metadata": {},
      "source": [
        "## Convexe-hull\n",
        "The convex hull of a binary shape can be visualized quite easily by imagining stretching an elastic band around the shape. The elastic band will follow the convex contours of the shape, but will 'bridge' the concave contours. The resulting shape will have no concavities and contains the original shape. Where an image contains multiple disconnected shapes, the convex hull algorithm will determine the convex hull of each shape, but will not connect disconnected shapes, unless their convex hulls happen to overlap (e.g. two interlocked 'U'-shapes).\n",
        "\n",
        "An approximate convex hull can be computed using the **THICKENING** operator with the structuring elements shown below. The convex hull computed using this method is actually a '45\u00b0 convex hull' approximation, in which the boundaries of the convex hull have orientations that are multiples of 45\u00b0. Note that this computation can be _very_ slow.\n",
        "\n",
        "![kernel used for convex hull][thkhull]\n",
        "\n",
        "[thkhull]: images/thkhull.png \"kernel used for convex hull\"\n",
        "During each iteration of the thickening, each structuring element should be used in turn, and then in each of their 90\u00b0 rotations, giving 8 effective structuring elements in total. The convex-hull is complete once the **THICKENING** reaches convergence."
      ]
    },
    {
      "cell_type": "markdown",
      "metadata": {},
      "source": [
        "### Exercice:\n",
        "\n",
        "Implement the `convex_hull` function using your `thicken` function."
      ]
    },
    {
      "cell_type": "code",
      "execution_count": null,
      "metadata": {},
      "outputs": [],
      "source": [
        "def convex_hull(image):\n",
        "    # write your implementation here\n",
        "    output_image = image\n",
        "    \n",
        "    \n",
        "    return output_image"
      ]
    },
    {
      "cell_type": "code",
      "execution_count": null,
      "metadata": {},
      "outputs": [],
      "source": [
        "image = 1-(imageio.imread(\"images/crosses.png\") < 128).astype(np.uint8)\n",
        "\n",
        "fig, axes = plt.subplots(1,2, figsize=(20,20))\n",
        "axes[0].imshow(image)\n",
        "axes[0].set_title(\"original image\")\n",
        "\n",
        "axes[1].imshow(convex_hull(image))\n",
        "axes[1].set_title(\"convex-hull approximation\");"
      ]
    },
    {
      "cell_type": "markdown",
      "metadata": {},
      "source": [
        "## Skeletonization\n",
        "\n",
        "Skeletonization is a process for reducing foreground regions in a binary image to a skeletal remnant that largely preserves the extent and connectivity of the original region while throwing away most of the original foreground pixels. To see how this works, imagine that the foreground regions in the input binary image are made of some uniform slow-burning material. Light fires simultaneously at all points along the boundary of this region and watch the fire move into the interior. At points where the fire traveling from two different boundaries meets itself, the fire will extinguish itself and the points at which this happens form the so called _quench line_. This line is the skeleton. Under this definition it is clear that thinning produces a sort of skeleton.\n",
        "\n",
        "An approximate skeleton can be computed using the **THINNING** operator with specific structuring elements.\n",
        "This approximate actually gives the \"octagonal skeleton\" of the binary shape (the set of points that lie at the centers of octagons that fit entirely inside the shape, and which touch the boundary of the shape at at least two points).\n",
        "\n",
        "Similar to the convex-hull, the skeleton is complete once the **THINNING** reaches convergence."
      ]
    },
    {
      "cell_type": "markdown",
      "metadata": {},
      "source": [
        "### Exercice\n",
        "Implement the `skeletonize` function using your `thin` function. First, you have to select the adequate kernels.\n",
        "\n",
        "**Hint:** they are 2 different kernels, each rotated in the 4 directions, making 8 effective kernels."
      ]
    },
    {
      "cell_type": "code",
      "execution_count": null,
      "metadata": {},
      "outputs": [],
      "source": [
        "def skeletonize(image):\n",
        "    assert_binary_uint8(image)\n",
        "    # write your implementation here\n",
        "    output_image = image\n",
        "    \n",
        "    \n",
        "    assert_binary_uint8(output_image)\n",
        "    return output_image"
      ]
    },
    {
      "cell_type": "code",
      "execution_count": null,
      "metadata": {},
      "outputs": [],
      "source": [
        "image = 1-(imageio.imread(\"images/circuit_large.png\")[...,0] < 128).astype(np.uint8)\n",
        "\n",
        "fig, axes = plt.subplots(1,2, figsize=(20,20))\n",
        "axes[0].imshow(image)\n",
        "axes[0].set_title(\"original image\")\n",
        "\n",
        "axes[1].imshow(skeletonize(image))\n",
        "axes[1].set_title(\"skeleton approximation\");"
      ]
    },
    {
      "cell_type": "markdown",
      "metadata": {},
      "source": [
        "Note that skeletons produced by this method often contain undesirable short _spurs_ produced by small irregularities in the boundary of the original object. These _spurs_ can be removed by a process called pruning, which is in fact just another sort of thinning.\n",
        "\n",
        "## Exercice\n",
        "Implement the function `prune` that removes these spurs"
      ]
    },
    {
      "cell_type": "code",
      "execution_count": null,
      "metadata": {},
      "outputs": [],
      "source": [
        "def prune(image):\n",
        "    assert_binary_uint8(image)\n",
        "    # Write your implementation below...\n",
        "    output_image = image\n",
        "    \n",
        "    \n",
        "    assert_binary_uint8(output_image)\n",
        "    return output_image"
      ]
    },
    {
      "cell_type": "code",
      "execution_count": null,
      "metadata": {},
      "outputs": [],
      "source": [
        "image = 1-(imageio.imread(\"images/circuit_large.png\")[...,0] < 128).astype(np.uint8)\n",
        "\n",
        "fig, axes = plt.subplots(1,3, figsize=(20,20))\n",
        "axes[0].imshow(image)\n",
        "axes[0].set_title(\"original image\")\n",
        "\n",
        "skeleton = skeletonize(image)\n",
        "axes[1].imshow(skeleton)\n",
        "axes[1].set_title(\"skeleton approximation\")\n",
        "\n",
        "axes[2].imshow(prune(skeleton))\n",
        "axes[2].set_title(\"spurious spurs removed skeleton approximation\");"
      ]
    },
    {
      "cell_type": "code",
      "execution_count": null,
      "metadata": {},
      "outputs": [],
      "source": [
        ""
      ]
    },
    {
      "cell_type": "code",
      "execution_count": null,
      "metadata": {},
      "outputs": [],
      "source": [
        ""
      ]
    }
  ],
  "metadata": {
    "kernelspec": {
      "display_name": "Python 3",
      "language": "python",
      "name": "python3"
    },
    "language_info": {
      "codemirror_mode": {
        "name": "ipython",
        "version": 3
      },
      "file_extension": ".py",
      "mimetype": "text/x-python",
      "name": "python",
      "nbconvert_exporter": "python",
      "pygments_lexer": "ipython3",
      "version": "3.6.8"
    }
  },
  "nbformat": 4,
  "nbformat_minor": 2
}